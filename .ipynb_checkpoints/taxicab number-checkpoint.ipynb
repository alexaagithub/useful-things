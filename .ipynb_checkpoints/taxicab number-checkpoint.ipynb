{
 "cells": [
  {
   "cell_type": "markdown",
   "id": "dca15cbf",
   "metadata": {},
   "source": [
    "# Import Packages and Libraries"
   ]
  },
  {
   "cell_type": "code",
   "execution_count": 20,
   "id": "330e8b93",
   "metadata": {},
   "outputs": [],
   "source": [
    "import numpy as np\n",
    "from collections import Counter\n",
    "import sys"
   ]
  },
  {
   "cell_type": "markdown",
   "id": "7c74cdeb",
   "metadata": {},
   "source": [
    "# Code"
   ]
  },
  {
   "cell_type": "code",
   "execution_count": 21,
   "id": "4a10d863",
   "metadata": {},
   "outputs": [],
   "source": [
    "def taxicab_number(n):\n",
    "    '''\n",
    "    Calculates the taxicab number n\n",
    "    \n",
    "    Parameters\n",
    "    ----------\n",
    "    n: integer greater than 1\n",
    "        index number of the taxicab number\n",
    "    \n",
    "    Returns\n",
    "    -------\n",
    "    ta: integer \n",
    "        taxicab number n\n",
    "    '''\n",
    "    if n < 2 or type(n)!=int:\n",
    "        print('Please insert a integer greater than or equal to 2')\n",
    "        sys.exit(0)\n",
    "        \n",
    "    found_number = False # variable to determine if the number was found or not\n",
    "    list_numbers = [1] # list with numbers\n",
    "    list_sum_cubes = [] # list with the sum of cubes of the pairs of numbers present on \n",
    "                        # the previous list\n",
    "    while found_number == False: \n",
    "        # while we don't find the number, we keep adding numbers to the list\n",
    "        number = list_numbers[-1]+1\n",
    "        #print('number:',number)\n",
    "        list_numbers.append(number)\n",
    "\n",
    "        l = len(list_numbers)-1 # length of the list of numbers\n",
    "        for i in range(0,l):\n",
    "            p = (list_numbers[i]**3) + (list_numbers[l]**3) # sum of cubes\n",
    "            list_sum_cubes.append(p) # adding the sum of cubes to the list\n",
    "        \n",
    "        #print('list of sum of cubes:',list_sum_cubes)\n",
    "        res = [ele for ele, cnt in Counter(list_sum_cubes).items() if cnt == n]\n",
    "        # if there is a sum of cubes with a frequency of n that's our taxicab number\n",
    "        if len(res) != 0:\n",
    "            found_number = True\n",
    "            ta = res[0]\n",
    "    return ta"
   ]
  },
  {
   "cell_type": "code",
   "execution_count": 26,
   "id": "b1bcdfd7",
   "metadata": {},
   "outputs": [
    {
     "ename": "KeyboardInterrupt",
     "evalue": "",
     "output_type": "error",
     "traceback": [
      "\u001b[0;31m---------------------------------------------------------------------------\u001b[0m",
      "\u001b[0;31mKeyboardInterrupt\u001b[0m                         Traceback (most recent call last)",
      "Cell \u001b[0;32mIn[26], line 1\u001b[0m\n\u001b[0;32m----> 1\u001b[0m \u001b[43mtaxicab_number\u001b[49m\u001b[43m(\u001b[49m\u001b[38;5;241;43m4\u001b[39;49m\u001b[43m)\u001b[49m\n",
      "Cell \u001b[0;32mIn[21], line 35\u001b[0m, in \u001b[0;36mtaxicab_number\u001b[0;34m(n)\u001b[0m\n\u001b[1;32m     32\u001b[0m     list_sum_cubes\u001b[38;5;241m.\u001b[39mappend(p) \u001b[38;5;66;03m# adding the sum of cubes to the list\u001b[39;00m\n\u001b[1;32m     34\u001b[0m \u001b[38;5;66;03m#print('list of sum of cubes:',list_sum_cubes)\u001b[39;00m\n\u001b[0;32m---> 35\u001b[0m res \u001b[38;5;241m=\u001b[39m [ele \u001b[38;5;28;01mfor\u001b[39;00m ele, cnt \u001b[38;5;129;01min\u001b[39;00m \u001b[43mCounter\u001b[49m\u001b[43m(\u001b[49m\u001b[43mlist_sum_cubes\u001b[49m\u001b[43m)\u001b[49m\u001b[38;5;241m.\u001b[39mitems() \u001b[38;5;28;01mif\u001b[39;00m cnt \u001b[38;5;241m==\u001b[39m n]\n\u001b[1;32m     36\u001b[0m \u001b[38;5;66;03m# if there is a sum of cubes with a frequency of n that's our taxicab number\u001b[39;00m\n\u001b[1;32m     37\u001b[0m \u001b[38;5;28;01mif\u001b[39;00m \u001b[38;5;28mlen\u001b[39m(res) \u001b[38;5;241m!=\u001b[39m \u001b[38;5;241m0\u001b[39m:\n",
      "File \u001b[0;32m~/anaconda3/lib/python3.10/collections/__init__.py:577\u001b[0m, in \u001b[0;36mCounter.__init__\u001b[0;34m(self, iterable, **kwds)\u001b[0m\n\u001b[1;32m    566\u001b[0m \u001b[38;5;124;03m'''Create a new, empty Counter object.  And if given, count elements\u001b[39;00m\n\u001b[1;32m    567\u001b[0m \u001b[38;5;124;03mfrom an input iterable.  Or, initialize the count from another mapping\u001b[39;00m\n\u001b[1;32m    568\u001b[0m \u001b[38;5;124;03mof elements to their counts.\u001b[39;00m\n\u001b[0;32m   (...)\u001b[0m\n\u001b[1;32m    574\u001b[0m \n\u001b[1;32m    575\u001b[0m \u001b[38;5;124;03m'''\u001b[39;00m\n\u001b[1;32m    576\u001b[0m \u001b[38;5;28msuper\u001b[39m()\u001b[38;5;241m.\u001b[39m\u001b[38;5;21m__init__\u001b[39m()\n\u001b[0;32m--> 577\u001b[0m \u001b[38;5;28;43mself\u001b[39;49m\u001b[38;5;241;43m.\u001b[39;49m\u001b[43mupdate\u001b[49m\u001b[43m(\u001b[49m\u001b[43miterable\u001b[49m\u001b[43m,\u001b[49m\u001b[43m \u001b[49m\u001b[38;5;241;43m*\u001b[39;49m\u001b[38;5;241;43m*\u001b[39;49m\u001b[43mkwds\u001b[49m\u001b[43m)\u001b[49m\n",
      "File \u001b[0;32m~/anaconda3/lib/python3.10/collections/__init__.py:670\u001b[0m, in \u001b[0;36mCounter.update\u001b[0;34m(self, iterable, **kwds)\u001b[0m\n\u001b[1;32m    668\u001b[0m             \u001b[38;5;28msuper\u001b[39m()\u001b[38;5;241m.\u001b[39mupdate(iterable)\n\u001b[1;32m    669\u001b[0m     \u001b[38;5;28;01melse\u001b[39;00m:\n\u001b[0;32m--> 670\u001b[0m         \u001b[43m_count_elements\u001b[49m\u001b[43m(\u001b[49m\u001b[38;5;28;43mself\u001b[39;49m\u001b[43m,\u001b[49m\u001b[43m \u001b[49m\u001b[43miterable\u001b[49m\u001b[43m)\u001b[49m\n\u001b[1;32m    671\u001b[0m \u001b[38;5;28;01mif\u001b[39;00m kwds:\n\u001b[1;32m    672\u001b[0m     \u001b[38;5;28mself\u001b[39m\u001b[38;5;241m.\u001b[39mupdate(kwds)\n",
      "\u001b[0;31mKeyboardInterrupt\u001b[0m: "
     ]
    }
   ],
   "source": [
    "taxicab_number(4)"
   ]
  },
  {
   "cell_type": "code",
   "execution_count": null,
   "id": "6a9500c2",
   "metadata": {},
   "outputs": [],
   "source": []
  }
 ],
 "metadata": {
  "kernelspec": {
   "display_name": "Python 3 (ipykernel)",
   "language": "python",
   "name": "python3"
  },
  "language_info": {
   "codemirror_mode": {
    "name": "ipython",
    "version": 3
   },
   "file_extension": ".py",
   "mimetype": "text/x-python",
   "name": "python",
   "nbconvert_exporter": "python",
   "pygments_lexer": "ipython3",
   "version": "3.10.9"
  }
 },
 "nbformat": 4,
 "nbformat_minor": 5
}
