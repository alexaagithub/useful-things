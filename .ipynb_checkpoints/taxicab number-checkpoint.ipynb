{
 "cells": [
  {
   "cell_type": "markdown",
   "id": "dca15cbf",
   "metadata": {},
   "source": [
    "# Import Packages and Libraries"
   ]
  },
  {
   "cell_type": "code",
   "execution_count": 1,
   "id": "330e8b93",
   "metadata": {},
   "outputs": [],
   "source": [
    "import numpy as np\n",
    "from collections import Counter\n",
    "import sys"
   ]
  },
  {
   "cell_type": "markdown",
   "id": "7c74cdeb",
   "metadata": {},
   "source": [
    "# Code"
   ]
  },
  {
   "cell_type": "code",
   "execution_count": 2,
   "id": "4a10d863",
   "metadata": {},
   "outputs": [],
   "source": [
    "def taxicab_number(n):\n",
    "    '''\n",
    "    Calculates the taxicab number n\n",
    "    \n",
    "    Parameters\n",
    "    ----------\n",
    "    n: integer greater than 1\n",
    "        index number of the taxicab number\n",
    "    \n",
    "    Returns\n",
    "    -------\n",
    "    ta: integer \n",
    "        taxicab number n\n",
    "    '''\n",
    "    if n < 2 or type(n)!=int:\n",
    "        print('Please insert a integer greater than or equal to 2')\n",
    "        sys.exit(0)\n",
    "        \n",
    "    found_number = False # variable to determine if the number was found or not\n",
    "    list_numbers = [1] # list with numbers\n",
    "    list_sum_cubes = [] # list with the sum of cubes of the pairs of numbers present on \n",
    "                        # the previous list\n",
    "    while found_number == False: \n",
    "        # while we don't find the number, we keep adding numbers to the list\n",
    "        number = list_numbers[-1]+1\n",
    "        #print('number:',number)\n",
    "        list_numbers.append(number)\n",
    "\n",
    "        l = len(list_numbers)-1 # length of the list of numbers\n",
    "        for i in range(0,l):\n",
    "            p = (list_numbers[i]**3) + (list_numbers[l]**3) # sum of cubes\n",
    "            list_sum_cubes.append(p) # adding the sum of cubes to the list\n",
    "        \n",
    "        #print('list of sum of cubes:',list_sum_cubes)\n",
    "        res = [ele for ele, cnt in Counter(list_sum_cubes).items() if cnt == n]\n",
    "        # if there is a sum of cubes with a frequency of n that's our taxicab number\n",
    "        if len(res) != 0:\n",
    "            found_number = True\n",
    "            ta = res[0]\n",
    "    return ta"
   ]
  },
  {
   "cell_type": "code",
   "execution_count": 3,
   "id": "b1bcdfd7",
   "metadata": {},
   "outputs": [
    {
     "data": {
      "text/plain": [
       "1729"
      ]
     },
     "execution_count": 3,
     "metadata": {},
     "output_type": "execute_result"
    }
   ],
   "source": [
    "taxicab_number(2)"
   ]
  },
  {
   "cell_type": "code",
   "execution_count": 4,
   "id": "3607b1d0",
   "metadata": {},
   "outputs": [
    {
     "data": {
      "text/plain": [
       "87539319"
      ]
     },
     "execution_count": 4,
     "metadata": {},
     "output_type": "execute_result"
    }
   ],
   "source": [
    "taxicab_number(3)"
   ]
  }
 ],
 "metadata": {
  "kernelspec": {
   "display_name": "Python 3 (ipykernel)",
   "language": "python",
   "name": "python3"
  },
  "language_info": {
   "codemirror_mode": {
    "name": "ipython",
    "version": 3
   },
   "file_extension": ".py",
   "mimetype": "text/x-python",
   "name": "python",
   "nbconvert_exporter": "python",
   "pygments_lexer": "ipython3",
   "version": "3.10.9"
  }
 },
 "nbformat": 4,
 "nbformat_minor": 5
}
